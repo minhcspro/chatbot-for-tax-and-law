{
 "cells": [
  {
   "cell_type": "code",
   "execution_count": 1,
   "metadata": {},
   "outputs": [
    {
     "name": "stdout",
     "output_type": "stream",
     "text": [
      "Defaulting to user installation because normal site-packages is not writeable\n",
      "Requirement already satisfied: underthesea in ./.local/lib/python3.10/site-packages (6.8.0)\n",
      "Collecting bs4\n",
      "  Downloading bs4-0.0.2-py2.py3-none-any.whl (1.2 kB)\n",
      "Requirement already satisfied: requests in ./.local/lib/python3.10/site-packages (2.31.0)\n",
      "Requirement already satisfied: scikit-learn in ./.local/lib/python3.10/site-packages (from underthesea) (1.4.1.post1)\n",
      "Requirement already satisfied: joblib in ./.local/lib/python3.10/site-packages (from underthesea) (1.3.2)\n",
      "Requirement already satisfied: tqdm in ./.local/lib/python3.10/site-packages (from underthesea) (4.66.2)\n",
      "Requirement already satisfied: nltk in ./.local/lib/python3.10/site-packages (from underthesea) (3.8.1)\n",
      "Requirement already satisfied: python-crfsuite>=0.9.6 in ./.local/lib/python3.10/site-packages (from underthesea) (0.9.10)\n",
      "Requirement already satisfied: underthesea-core==1.0.4 in ./.local/lib/python3.10/site-packages (from underthesea) (1.0.4)\n",
      "Requirement already satisfied: PyYAML in /usr/lib/python3/dist-packages (from underthesea) (5.4.1)\n",
      "Requirement already satisfied: Click>=6.0 in ./.local/lib/python3.10/site-packages (from underthesea) (8.1.7)\n",
      "Requirement already satisfied: beautifulsoup4 in /usr/lib/python3/dist-packages (from bs4) (4.10.0)\n",
      "Requirement already satisfied: charset-normalizer<4,>=2 in ./.local/lib/python3.10/site-packages (from requests) (3.3.2)\n",
      "Requirement already satisfied: urllib3<3,>=1.21.1 in ./.local/lib/python3.10/site-packages (from requests) (2.2.1)\n",
      "Requirement already satisfied: idna<4,>=2.5 in ./.local/lib/python3.10/site-packages (from requests) (3.6)\n",
      "Requirement already satisfied: certifi>=2017.4.17 in ./.local/lib/python3.10/site-packages (from requests) (2024.2.2)\n",
      "Requirement already satisfied: regex>=2021.8.3 in ./.local/lib/python3.10/site-packages (from nltk->underthesea) (2023.12.25)\n",
      "Requirement already satisfied: scipy>=1.6.0 in /usr/lib/python3/dist-packages (from scikit-learn->underthesea) (1.8.0)\n",
      "Requirement already satisfied: threadpoolctl>=2.0.0 in ./.local/lib/python3.10/site-packages (from scikit-learn->underthesea) (3.3.0)\n",
      "Requirement already satisfied: numpy<2.0,>=1.19.5 in ./.local/lib/python3.10/site-packages (from scikit-learn->underthesea) (1.26.4)\n",
      "Installing collected packages: bs4\n",
      "Successfully installed bs4-0.0.2\n"
     ]
    }
   ],
   "source": [
    "!pip install underthesea bs4 requests"
   ]
  },
  {
   "cell_type": "code",
   "execution_count": 20,
   "metadata": {},
   "outputs": [],
   "source": [
    "import requests\n",
    "from bs4 import BeautifulSoup\n",
    "import os"
   ]
  },
  {
   "cell_type": "code",
   "execution_count": 5,
   "metadata": {},
   "outputs": [],
   "source": [
    "url = \"https://vanbanphapluat.co/api/search?lv=/linh-vuc/bao-hiem&p=\"\n",
    "uids_baohiem = {}\n",
    "for i in range(1, 50):\n",
    "    url = url + str(i)\n",
    "    response = requests.get(url)\n",
    "\n",
    "    if response.status_code == 200:\n",
    "        data = response.json()\n",
    "        items = data.get(\"Items\", [])\n",
    "\n",
    "        list_uid = {item.get(\"Title\"):item.get(\"UID\") for item in items if 'het-hieu-luc' not in item.get(\"TrinhTrangHieuLuc\").get(\"UID\")}\n",
    "        # Extract UIDs from each item\n",
    "        uids_baohiem.update(list_uid)\n",
    "    else:\n",
    "        print(\"Error fetching data from the API\")\n",
    "    url = url.strip(str(i))"
   ]
  },
  {
   "cell_type": "code",
   "execution_count": 6,
   "metadata": {},
   "outputs": [],
   "source": [
    "url = \"https://vanbanphapluat.co/api/search?lv=/linh-vuc/thue-phi-le-phi&p=\"\n",
    "uids_thue = {}\n",
    "for i in range(1, 50):\n",
    "    url = url + str(i)\n",
    "    response = requests.get(url)\n",
    "    \n",
    "    if response.status_code == 200:\n",
    "        data = response.json()\n",
    "        items = data.get(\"Items\", [])\n",
    "\n",
    "        list_uid = {item.get(\"Title\"):item.get(\"UID\") for item in items for item in items if 'het-hieu-luc' not in item.get(\"TrinhTrangHieuLuc\").get(\"UID\")}\n",
    "        # Extract UIDs from each item\n",
    "        uids_thue.update(list_uid)\n",
    "    else:\n",
    "        print(\"Error fetching data from the API\")\n",
    "    url = url.strip(str(i))"
   ]
  },
  {
   "cell_type": "code",
   "execution_count": 12,
   "metadata": {},
   "outputs": [],
   "source": [
    "url = \"https://vanbanphapluat.co/api/search?l=/loai-van-ban/luat&lv=/linh-vuc/thue-phi-le-phi&p=\"\n",
    "uids_luat_thue = {}\n",
    "for i in range(1, 4):\n",
    "    url = url + str(i)\n",
    "    response = requests.get(url)\n",
    "    \n",
    "    if response.status_code == 200:\n",
    "        data = response.json()\n",
    "        items = data.get(\"Items\", [])\n",
    "        list_uid = {item.get(\"Title\"):item.get(\"UID\") for item in items for item in items if 'het-hieu-luc' not in item.get(\"TrinhTrangHieuLuc\").get(\"UID\")}\n",
    "        # Extract UIDs from each item\n",
    "        uids_luat_thue.update(list_uid)\n",
    "    else:\n",
    "        print(\"Error fetching data from the API\")\n",
    "    url = url.strip(str(i))"
   ]
  },
  {
   "cell_type": "code",
   "execution_count": 15,
   "metadata": {},
   "outputs": [],
   "source": [
    "url = \"https://vanbanphapluat.co/api/search?l=/loai-van-ban/luat&lv=/linh-vuc/bao-hiem&p=\"\n",
    "uids_luat_baohiem = {}\n",
    "url = url + str(1)\n",
    "response = requests.get(url)\n",
    "\n",
    "if response.status_code == 200:\n",
    "    data = response.json()\n",
    "    items = data.get(\"Items\", [])\n",
    "\n",
    "    list_uid = {item.get(\"Title\"):item.get(\"UID\") for item in items for item in items if 'het-hieu-luc' not in item.get(\"TrinhTrangHieuLuc\").get(\"UID\")}\n",
    "    # Extract UIDs from each item\n",
    "    uids_luat_baohiem.update(list_uid)\n",
    "else:\n",
    "    print(\"Error fetching data from the API\")"
   ]
  },
  {
   "cell_type": "code",
   "execution_count": 16,
   "metadata": {},
   "outputs": [
    {
     "name": "stdout",
     "output_type": "stream",
     "text": [
      "{'Luật Bảo hiểm xã hội': '/luat-bao-hiem-xa-hoi', 'Luật Kinh doanh bảo hiểm 2022': '/luat-kinh-doanh-bao-hiem-sua-doi', 'Luật Bảo hiểm y tế': '/luat-bao-hiem-y-te', 'Law 42/2019/QH14 amendments of Law on Insurance Business and Law on Intellectual Property': '/law-42-2019-qh14-amendments-of-law-on-insurance-business-and-law-on-intellectual-property', 'Luật Kinh doanh bảo hiểm Luật Sở hữu trí tuệ sửa đổi 2019': '/luat-sua-doi-luat-kinh-doanh-bao-hiem-luat-so-huu-tri-tue', 'Luật Bảo hiểm xã hội 2014': '/luat-bao-hiem-xa-hoi-2014', 'Luật Bảo hiểm y tế sửa đổi 2014': '/luat-bao-hiem-y-te-sua-doi-2014', 'Luật việc làm năm 2013': '/luat-viec-lam-nam-2013', 'Luật Bảo hiểm tiền gửi 2012': '/luat-bao-hiem-tien-gui-2012', 'Luật kinh doanh bảo hiểm sửa đổi 2010': '/luat-kinh-doanh-bao-hiem-sua-doi-2010', 'Luật bảo hiểm y tế 2008 25/2008/QH12': '/luat-bao-hiem-y-te-2008-25-2008-qh12', 'Luật Kinh doanh bảo hiểm 2000 24/2000/QH10': '/luat-kinh-doanh-bao-hiem-2000-24-2000-qh10'}\n"
     ]
    }
   ],
   "source": [
    "print (uids_luat_baohiem)"
   ]
  },
  {
   "cell_type": "code",
   "execution_count": 17,
   "metadata": {},
   "outputs": [
    {
     "name": "stdout",
     "output_type": "stream",
     "text": [
      "1972\n"
     ]
    }
   ],
   "source": [
    "uids = dict(uids_baohiem)\n",
    "uids.update(uids_thue)\n",
    "uids.update(uids_luat_thue)\n",
    "uids.update(uids_luat_baohiem)\n",
    "print (len(uids))"
   ]
  },
  {
   "cell_type": "code",
   "execution_count": 18,
   "metadata": {},
   "outputs": [],
   "source": [
    "def html_to_text(html_string):\n",
    "    # Remove HTML tags\n",
    "    soup = BeautifulSoup(html_string, 'html.parser')\n",
    "    for table_elem in soup.find_all('table'):\n",
    "        table_elem.decompose()\n",
    "    for center_elem in soup.find_all(attrs={'align': 'center'}):\n",
    "        center_elem.decompose()\n",
    "    for text_center_elem in soup.find_all(style=lambda value: value and 'text-align: center' in value):\n",
    "        text_center_elem.decompose()\n",
    "    for elem in soup.find_all(['p', 'br']):\n",
    "        elem.replace_with(elem.text + '[BREAK]')\n",
    "    plain_text = soup.get_text()\n",
    "    return plain_text"
   ]
  },
  {
   "cell_type": "code",
   "execution_count": 21,
   "metadata": {},
   "outputs": [],
   "source": [
    "url = \"https://vanbanphapluat.co/api/vanban\"\n",
    "old_idx = -1\n",
    "for title, uid in uids.items():\n",
    "    if old_idx != -1:\n",
    "        url = url +  uid + url[old_idx + len(uid):]\n",
    "    else:\n",
    "        url = url +  uid\n",
    "    response = requests.get(url)\n",
    "\n",
    "    if response.status_code == 200:\n",
    "        data = response.json()\n",
    "        html_content = data.get(\"ToanVan\")\n",
    "        plain_text = html_to_text(html_content)\n",
    "        break_contained_texts = [text for text in plain_text.split() if \"[BREAK]\" != text]\n",
    "        plain_text = \" \".join(break_contained_texts)\n",
    "        plain_text = plain_text.replace('[BREAK]', '\\n')\n",
    "        plain_text = plain_text.strip(\" \")\n",
    "        filename = \"/mnt/d/bt/luan/data_files2/\" + title.replace('/', '-') + \".txt\"\n",
    "        if os.path.exists(filename):\n",
    "            continue\n",
    "        else:\n",
    "            with open(filename, 'w') as text_file:\n",
    "                text_file.write(plain_text)\n",
    "    else:\n",
    "        print(\"Error fetching data from the API\")\n",
    "    old_idx = url.rfind(uid)\n",
    "    url = url[:old_idx]"
   ]
  }
 ],
 "metadata": {
  "kernelspec": {
   "display_name": "Python 3",
   "language": "python",
   "name": "python3"
  },
  "language_info": {
   "codemirror_mode": {
    "name": "ipython",
    "version": 3
   },
   "file_extension": ".py",
   "mimetype": "text/x-python",
   "name": "python",
   "nbconvert_exporter": "python",
   "pygments_lexer": "ipython3",
   "version": "3.10.12"
  }
 },
 "nbformat": 4,
 "nbformat_minor": 2
}
